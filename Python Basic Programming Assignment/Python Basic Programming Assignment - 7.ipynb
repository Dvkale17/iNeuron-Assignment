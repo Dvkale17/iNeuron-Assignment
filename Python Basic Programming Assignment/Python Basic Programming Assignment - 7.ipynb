{
 "cells": [
  {
   "cell_type": "markdown",
   "metadata": {},
   "source": [
    "### 1. Write a Python Program to find sum of array?"
   ]
  },
  {
   "cell_type": "code",
   "execution_count": 1,
   "metadata": {},
   "outputs": [
    {
     "name": "stdout",
     "output_type": "stream",
     "text": [
      "Enter the size of array:4\n",
      "12\n",
      "41\n",
      "56\n",
      "45\n",
      "The sum of Array is: 154\n"
     ]
    }
   ],
   "source": [
    "n = int(input(\"Enter the size of array:\"))\n",
    "s = []\n",
    "for i in range(n):\n",
    "    num = int(input())\n",
    "    s.append(num)\n",
    "result = sum(s)\n",
    "print(\"The sum of Array is:\",result)"
   ]
  },
  {
   "cell_type": "markdown",
   "metadata": {},
   "source": [
    "### 2. Write a Python Program to find largest element in an array?"
   ]
  },
  {
   "cell_type": "code",
   "execution_count": 2,
   "metadata": {},
   "outputs": [
    {
     "name": "stdout",
     "output_type": "stream",
     "text": [
      "Enter the size of array:5\n",
      "47\n",
      "85\n",
      "65\n",
      "41\n",
      "12\n",
      "The largest element in Array is: 85\n"
     ]
    }
   ],
   "source": [
    "n = int(input(\"Enter the size of array:\"))\n",
    "s = []\n",
    "for i in range(n):\n",
    "    num = int(input())\n",
    "    s.append(num)\n",
    "result = max(s)\n",
    "print(\"The largest element in Array is:\",result)"
   ]
  },
  {
   "cell_type": "markdown",
   "metadata": {},
   "source": [
    "### 3. Write a Python Program for array rotation?"
   ]
  },
  {
   "cell_type": "code",
   "execution_count": 3,
   "metadata": {},
   "outputs": [
    {
     "name": "stdout",
     "output_type": "stream",
     "text": [
      "Enter number of elements of the array: 5\n",
      "Enter elements of the array :\n",
      "41\n",
      "24\n",
      "51\n",
      "64\n",
      "52\n",
      "Enter rotation count: 2\n",
      "Initial Array : 41 24 51 64 52 \n",
      "Array after rotation:  51 64 52 41 24 "
     ]
    }
   ],
   "source": [
    "def rotateArrayLeft(arr, R, n):\n",
    "    for i in range(R):\n",
    "        firstVal = arr[0]\n",
    "        for i in range(n-1):\n",
    "            arr[i] = arr[i+1]\n",
    "        arr[n-1] = firstVal\n",
    "arr = [1, 2, 3, 4, 5, 6, 7]\n",
    "n = int(input(\"Enter number of elements of the array: \"))\n",
    "arr = []\n",
    "print(\"Enter elements of the array :\")\n",
    "for i in range(n):\n",
    "  numbers = int(input())\n",
    "  arr.append(numbers)\n",
    "R = int(input(\"Enter rotation count: \"))\n",
    "print(\"Initial Array :\", end = \" \")\n",
    "for i in range(n):\n",
    "    print (\"%d\"% arr[i],end=\" \") \n",
    "rotateArrayLeft(arr, R, n)\n",
    "print(\"\\nArray after rotation: \", end = \" \")\n",
    "for i in range(n):\n",
    "    print (\"%d\"% arr[i],end=\" \")"
   ]
  },
  {
   "cell_type": "markdown",
   "metadata": {},
   "source": [
    "### 4. Write a Python Program to Split the array and add the first part to the end?"
   ]
  },
  {
   "cell_type": "code",
   "execution_count": 4,
   "metadata": {},
   "outputs": [
    {
     "name": "stdout",
     "output_type": "stream",
     "text": [
      "5 6 52 36 12 10 "
     ]
    }
   ],
   "source": [
    "def splitArr(a, n, k): \n",
    "   b = a[:k]\n",
    "   return (a[k::]+b[::])\n",
    "arr = [12, 10, 5, 6, 52, 36]\n",
    "n = len(arr)\n",
    "position = 2\n",
    "arr = splitArr(arr, n, position)\n",
    "for i in range(0, n): \n",
    "    print(arr[i], end = ' ')"
   ]
  },
  {
   "cell_type": "markdown",
   "metadata": {},
   "source": [
    "### 5. Write a Python Program to check if given array is Monotonic?"
   ]
  },
  {
   "cell_type": "code",
   "execution_count": 9,
   "metadata": {},
   "outputs": [
    {
     "name": "stdout",
     "output_type": "stream",
     "text": [
      "True\n"
     ]
    }
   ],
   "source": [
    "def mono(n):\n",
    "    return (all(n[i] <= n[i+1] for i in range(len(n)-1)) or (all(n[i] >= n[i+1] for i in range(len(n)-1))))\n",
    "n = [12,11,11,10,9,8,8,2]\n",
    "print(mono(n))"
   ]
  },
  {
   "cell_type": "code",
   "execution_count": null,
   "metadata": {},
   "outputs": [],
   "source": []
  },
  {
   "cell_type": "code",
   "execution_count": null,
   "metadata": {},
   "outputs": [],
   "source": []
  }
 ],
 "metadata": {
  "kernelspec": {
   "display_name": "Python 3",
   "language": "python",
   "name": "python3"
  },
  "language_info": {
   "codemirror_mode": {
    "name": "ipython",
    "version": 3
   },
   "file_extension": ".py",
   "mimetype": "text/x-python",
   "name": "python",
   "nbconvert_exporter": "python",
   "pygments_lexer": "ipython3",
   "version": "3.8.5"
  }
 },
 "nbformat": 4,
 "nbformat_minor": 4
}
