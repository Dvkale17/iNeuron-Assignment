{
 "cells": [
  {
   "cell_type": "markdown",
   "id": "f0802385",
   "metadata": {},
   "source": [
    "### 1. Write a Python program to find sum of elements in list?"
   ]
  },
  {
   "cell_type": "code",
   "execution_count": 1,
   "id": "cb59a5ee",
   "metadata": {},
   "outputs": [
    {
     "name": "stdout",
     "output_type": "stream",
     "text": [
      "406\n"
     ]
    }
   ],
   "source": [
    "li = [15,86,54,23,98,52,36,42]\n",
    "print(sum(li))"
   ]
  },
  {
   "cell_type": "markdown",
   "id": "5830f63a",
   "metadata": {},
   "source": [
    "### 2. Write a Python program to Multiply all numbers in the list?"
   ]
  },
  {
   "cell_type": "code",
   "execution_count": 7,
   "id": "083afecc",
   "metadata": {},
   "outputs": [
    {
     "name": "stdout",
     "output_type": "stream",
     "text": [
      "12345040431360\n"
     ]
    }
   ],
   "source": [
    "def multiplyList(li) :\n",
    "    result = 1\n",
    "    for x in li:\n",
    "         result = result * x\n",
    "    return result\n",
    "li = [15,86,54,23,98,52,36,42]\n",
    "print(multiplyList(li))"
   ]
  },
  {
   "cell_type": "markdown",
   "id": "7fd4816b",
   "metadata": {},
   "source": [
    "### 3. Write a Python program to find smallest number in a list?"
   ]
  },
  {
   "cell_type": "code",
   "execution_count": 17,
   "id": "250a2314",
   "metadata": {},
   "outputs": [
    {
     "data": {
      "text/plain": [
       "3"
      ]
     },
     "execution_count": 17,
     "metadata": {},
     "output_type": "execute_result"
    }
   ],
   "source": [
    "li = [15,86,54,3,98,52,36,42]\n",
    "s = li.sort()\n",
    "li[0]"
   ]
  },
  {
   "cell_type": "markdown",
   "id": "d2e76ae3",
   "metadata": {},
   "source": [
    "### 4. Write a Python program to find largest number in a list?"
   ]
  },
  {
   "cell_type": "code",
   "execution_count": 18,
   "id": "fa1ed75d",
   "metadata": {},
   "outputs": [
    {
     "data": {
      "text/plain": [
       "98"
      ]
     },
     "execution_count": 18,
     "metadata": {},
     "output_type": "execute_result"
    }
   ],
   "source": [
    "li = [15,86,54,3,98,52,36,42]\n",
    "s = li.sort()\n",
    "li[-1]"
   ]
  },
  {
   "cell_type": "markdown",
   "id": "d1964b08",
   "metadata": {},
   "source": [
    "### 5. Write a Python program to find second largest number in a list?"
   ]
  },
  {
   "cell_type": "code",
   "execution_count": 19,
   "id": "ea6cf10b",
   "metadata": {},
   "outputs": [
    {
     "data": {
      "text/plain": [
       "86"
      ]
     },
     "execution_count": 19,
     "metadata": {},
     "output_type": "execute_result"
    }
   ],
   "source": [
    "li = [15,86,54,3,98,52,36,42]\n",
    "s = li.sort()\n",
    "li[-2]"
   ]
  },
  {
   "cell_type": "markdown",
   "id": "6b3c35d3",
   "metadata": {},
   "source": [
    "### 6. Write a Python program to find N largest elements from a list?"
   ]
  },
  {
   "cell_type": "code",
   "execution_count": 21,
   "id": "38426b26",
   "metadata": {},
   "outputs": [
    {
     "name": "stdout",
     "output_type": "stream",
     "text": [
      "[86, 98]\n"
     ]
    }
   ],
   "source": [
    "li = [15,86,54,3,98,52,36,42]\n",
    "n = 2\n",
    "li.sort()\n",
    "print(li[-n:])"
   ]
  },
  {
   "cell_type": "markdown",
   "id": "0317ab00",
   "metadata": {},
   "source": [
    "### 7. Write a Python program to print even numbers in a list?"
   ]
  },
  {
   "cell_type": "code",
   "execution_count": 33,
   "id": "5a1134aa",
   "metadata": {},
   "outputs": [
    {
     "name": "stdout",
     "output_type": "stream",
     "text": [
      "15 is not a even number\n",
      "47 is not a even number\n",
      "Even Numbers are [86, 54, 4, 98, 36, 42]\n"
     ]
    }
   ],
   "source": [
    "li = [15,86,54,4,98,47,36,42]\n",
    "a = []\n",
    "for x in li:\n",
    "    if x%2==0:\n",
    "        a.append(x)\n",
    "    else:\n",
    "        print(\"{} is not a even number\".format(x))\n",
    "print(\"Even Numbers are\",a)\n",
    "        "
   ]
  },
  {
   "cell_type": "markdown",
   "id": "18baf113",
   "metadata": {},
   "source": [
    "### 8.Write a Python program to print odd numbers in a List?"
   ]
  },
  {
   "cell_type": "code",
   "execution_count": 34,
   "id": "a751d513",
   "metadata": {},
   "outputs": [
    {
     "name": "stdout",
     "output_type": "stream",
     "text": [
      "86 is not a odd number\n",
      "54 is not a odd number\n",
      "4 is not a odd number\n",
      "98 is not a odd number\n",
      "36 is not a odd number\n",
      "42 is not a odd number\n",
      "odd Numbers are [15, 47]\n"
     ]
    }
   ],
   "source": [
    "li = [15,86,54,4,98,47,36,42]\n",
    "a = []\n",
    "for x in li:\n",
    "    if x%2!=0:\n",
    "        a.append(x)\n",
    "    else:\n",
    "        print(\"{} is not a odd number\".format(x))\n",
    "print(\"odd Numbers are\",a)"
   ]
  },
  {
   "cell_type": "markdown",
   "id": "dfd2d4f0",
   "metadata": {},
   "source": [
    "### 9. Write a Python program to Remove empty List from List?"
   ]
  },
  {
   "cell_type": "code",
   "execution_count": 35,
   "id": "9dc7537f",
   "metadata": {},
   "outputs": [
    {
     "name": "stdout",
     "output_type": "stream",
     "text": [
      "List after empty list removal : [45, 23, 65, 48, 78, 23]\n"
     ]
    }
   ],
   "source": [
    "li = [45,23,65,[],48,78,23,[],[]]\n",
    "res = [ele for ele in li if ele != []]\n",
    "print (\"List after empty list removal : \" + str(res))"
   ]
  },
  {
   "cell_type": "markdown",
   "id": "6bab2b38",
   "metadata": {},
   "source": [
    "### 10. Write a Python program to Cloning or Copying a list?"
   ]
  },
  {
   "cell_type": "code",
   "execution_count": 38,
   "id": "d64b8aed",
   "metadata": {},
   "outputs": [
    {
     "name": "stdout",
     "output_type": "stream",
     "text": [
      "Original List: [15, 86, 54, 23, 98, 52, 36, 42]\n",
      "After Cloning: [15, 86, 54, 23, 98, 52, 36, 42]\n"
     ]
    }
   ],
   "source": [
    "def Cloning(li):\n",
    "    li_copy = list(li)\n",
    "    return li_copy\n",
    "li = [15,86,54,23,98,52,36,42]\n",
    "li1 = Cloning(li)\n",
    "print(\"Original List:\", li)\n",
    "print(\"After Cloning:\", li1)"
   ]
  },
  {
   "cell_type": "markdown",
   "id": "445f636f",
   "metadata": {},
   "source": [
    "### 11. Write a Python program to Count occurrences of an element in a list?"
   ]
  },
  {
   "cell_type": "code",
   "execution_count": 41,
   "id": "13514830",
   "metadata": {},
   "outputs": [
    {
     "name": "stdout",
     "output_type": "stream",
     "text": [
      "7 has occurred 3 times\n"
     ]
    }
   ],
   "source": [
    "def countX(li,x):\n",
    "    count = 0\n",
    "    for ele in li:\n",
    "        if (ele == x):\n",
    "            count = count + 1\n",
    "    return count\n",
    "li = [6, 6, 8, 10, 7, 20, 10, 7, 7]\n",
    "x = 7\n",
    "print('{} has occurred {} times'.format(x, countX(li,x)))"
   ]
  },
  {
   "cell_type": "code",
   "execution_count": null,
   "id": "4a8df464",
   "metadata": {},
   "outputs": [],
   "source": []
  }
 ],
 "metadata": {
  "kernelspec": {
   "display_name": "Python 3",
   "language": "python",
   "name": "python3"
  },
  "language_info": {
   "codemirror_mode": {
    "name": "ipython",
    "version": 3
   },
   "file_extension": ".py",
   "mimetype": "text/x-python",
   "name": "python",
   "nbconvert_exporter": "python",
   "pygments_lexer": "ipython3",
   "version": "3.8.8"
  }
 },
 "nbformat": 4,
 "nbformat_minor": 5
}
