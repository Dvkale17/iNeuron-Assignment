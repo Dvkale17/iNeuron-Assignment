{
 "cells": [
  {
   "cell_type": "markdown",
   "metadata": {},
   "source": [
    "### 1. Write a Python Program to Add Two Matrices?"
   ]
  },
  {
   "cell_type": "code",
   "execution_count": 2,
   "metadata": {},
   "outputs": [
    {
     "name": "stdout",
     "output_type": "stream",
     "text": [
      "[11, 13, 15]\n",
      "[17, 19, 21]\n",
      "[23, 25, 27]\n"
     ]
    }
   ],
   "source": [
    "X = [[1,2,3],  \n",
    "     [4,5,6],  \n",
    "     [7,8,9]]  \n",
    "  \n",
    "Y = [[10,11,12],  \n",
    "     [13,14,15],  \n",
    "     [16,17,18]]  \n",
    "  \n",
    "result = [[0,0,0],  \n",
    "          [0,0,0],  \n",
    "          [0,0,0]]  \n",
    "for i in range(len(X)):   \n",
    "   for j in range(len(X[0])):  \n",
    "       result[i][j] = X[i][j] + Y[i][j]  \n",
    "for r in result:  \n",
    "   print(r)  \n"
   ]
  },
  {
   "cell_type": "markdown",
   "metadata": {},
   "source": [
    "### 2. Write a Python Program to Multiply Two Matrices?"
   ]
  },
  {
   "cell_type": "code",
   "execution_count": 3,
   "metadata": {},
   "outputs": [
    {
     "name": "stdout",
     "output_type": "stream",
     "text": [
      "[10, 22, 36]\n",
      "[52, 70, 90]\n",
      "[112, 136, 162]\n"
     ]
    }
   ],
   "source": [
    "X = [[1,2,3],  \n",
    "     [4,5,6],  \n",
    "     [7,8,9]]  \n",
    "  \n",
    "Y = [[10,11,12],  \n",
    "     [13,14,15],  \n",
    "     [16,17,18]]  \n",
    "  \n",
    "result = [[0,0,0],  \n",
    "          [0,0,0],  \n",
    "          [0,0,0]]  \n",
    "for i in range(len(X)):   \n",
    "   for j in range(len(X[0])):  \n",
    "       result[i][j] = X[i][j] * Y[i][j]  \n",
    "for r in result:  \n",
    "   print(r)  \n"
   ]
  },
  {
   "cell_type": "markdown",
   "metadata": {},
   "source": [
    "### 3. Write a Python Program to Transpose a Matrix?"
   ]
  },
  {
   "cell_type": "code",
   "execution_count": 4,
   "metadata": {},
   "outputs": [
    {
     "name": "stdout",
     "output_type": "stream",
     "text": [
      "[12, 4, 3]\n",
      "[7, 5, 8]\n"
     ]
    }
   ],
   "source": [
    "X = [[12,7],\n",
    "    [4 ,5],\n",
    "    [3 ,8]]\n",
    "result = [[X[j][i] for j in range(len(X))] for i in range(len(X[0]))]\n",
    "for r in result:\n",
    "   print(r)"
   ]
  },
  {
   "cell_type": "markdown",
   "metadata": {},
   "source": [
    "### 4. Write a Python Program to Sort Words in Alphabetic Order?"
   ]
  },
  {
   "cell_type": "code",
   "execution_count": 5,
   "metadata": {},
   "outputs": [
    {
     "name": "stdout",
     "output_type": "stream",
     "text": [
      "Enter the sentence:hello how are you\n",
      "The sorted words are:\n",
      "are\n",
      "hello\n",
      "how\n",
      "you\n"
     ]
    }
   ],
   "source": [
    "wo = input(\"Enter the sentence:\")\n",
    "words = [word.lower() for word in wo.split()]\n",
    "words.sort()\n",
    "print(\"The sorted words are:\")\n",
    "for word in words:\n",
    "   print(word)"
   ]
  },
  {
   "cell_type": "markdown",
   "metadata": {},
   "source": [
    "### 5. Write a Python Program to Remove Punctuation From a String?"
   ]
  },
  {
   "cell_type": "code",
   "execution_count": 7,
   "metadata": {},
   "outputs": [
    {
     "name": "stdout",
     "output_type": "stream",
     "text": [
      "Hello he said and went\n"
     ]
    }
   ],
   "source": [
    "punctuations = '''!()-[]{};:'\"\\,<>./?@#$%^&*_~'''\n",
    "se = \"Hello!!!, he said ---and went.\"\n",
    "no_punct = \"\"\n",
    "for char in se:\n",
    "   if char not in punctuations:\n",
    "       no_punct = no_punct + char\n",
    "print(no_punct)"
   ]
  },
  {
   "cell_type": "code",
   "execution_count": null,
   "metadata": {},
   "outputs": [],
   "source": []
  }
 ],
 "metadata": {
  "kernelspec": {
   "display_name": "Python 3",
   "language": "python",
   "name": "python3"
  },
  "language_info": {
   "codemirror_mode": {
    "name": "ipython",
    "version": 3
   },
   "file_extension": ".py",
   "mimetype": "text/x-python",
   "name": "python",
   "nbconvert_exporter": "python",
   "pygments_lexer": "ipython3",
   "version": "3.8.5"
  }
 },
 "nbformat": 4,
 "nbformat_minor": 4
}
