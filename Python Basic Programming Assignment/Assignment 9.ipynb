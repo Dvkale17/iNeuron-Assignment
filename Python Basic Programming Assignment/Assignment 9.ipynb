{
 "cells": [
  {
   "cell_type": "markdown",
   "id": "41e44216",
   "metadata": {},
   "source": [
    "### 1. Write a Python Program to check if the given number is a Disarium Number?"
   ]
  },
  {
   "cell_type": "code",
   "execution_count": 16,
   "id": "5c108127",
   "metadata": {},
   "outputs": [
    {
     "name": "stdout",
     "output_type": "stream",
     "text": [
      "Enter the number to check:89\n",
      "Disarium Number!\n"
     ]
    }
   ],
   "source": [
    "num = input(\"Enter the number to check:\")\n",
    "len_num = len(num)\n",
    "n=int(num)\n",
    "copy_n=n\n",
    "result = 0\n",
    "i = len_num\n",
    "while(n!=0):\n",
    "    digit = n%10\n",
    "    result=result+pow(digit,i)\n",
    "    n=int(n/10)\n",
    "    i = i - 1\n",
    "if(result==copy_n):\n",
    "    print(\"Disarium Number!\")\n",
    "else:\n",
    "    print(\"Not an Disarium Number!\")"
   ]
  },
  {
   "cell_type": "markdown",
   "id": "eef9a083",
   "metadata": {},
   "source": [
    "### 2. Write a Python Program to print all Disarium Number between 1 to 100?"
   ]
  },
  {
   "cell_type": "code",
   "execution_count": 24,
   "id": "764b13de",
   "metadata": {},
   "outputs": [
    {
     "name": "stdout",
     "output_type": "stream",
     "text": [
      "Disarium numbers between 1 and 100 are\n",
      "1\n",
      "2\n",
      "3\n",
      "4\n",
      "5\n",
      "6\n",
      "7\n",
      "8\n",
      "9\n",
      "89\n"
     ]
    }
   ],
   "source": [
    "def calculateLength(n):    \n",
    "    length = 0\n",
    "    while(n != 0):    \n",
    "        length = length + 1    \n",
    "        n = n//10\n",
    "    return length    \n",
    "def sumOfDigits(num):    \n",
    "    rem = sum = 0    \n",
    "    len = calculateLength(num);    \n",
    "        \n",
    "    while(num > 0):    \n",
    "        rem = num%10\n",
    "        sum = sum + (rem**len) \n",
    "        num = num//10\n",
    "        len = len - 1    \n",
    "    return sum    \n",
    "result = 0       \n",
    "print(\"Disarium numbers between 1 and 100 are\")\n",
    "for i in range(1, 101):    \n",
    "    result = sumOfDigits(i)    \n",
    "    if(result == i):    \n",
    "        print(i)   "
   ]
  },
  {
   "cell_type": "markdown",
   "id": "3969b6e5",
   "metadata": {},
   "source": [
    "### 3. Write a Python program to check if the given number is Happy Number?"
   ]
  },
  {
   "cell_type": "code",
   "execution_count": 2,
   "id": "3120b917",
   "metadata": {},
   "outputs": [
    {
     "name": "stdout",
     "output_type": "stream",
     "text": [
      "82 is a happy number\n"
     ]
    }
   ],
   "source": [
    "def isHappyNumber(num):    \n",
    "    rem = sum = 0;    \n",
    "    while(num > 0):    \n",
    "        rem = num%10;    \n",
    "        sum = sum + (rem*rem);    \n",
    "        num = num//10;    \n",
    "    return sum;    \n",
    "num = 82;    \n",
    "result = num;    \n",
    "while(result != 1 and result != 4):    \n",
    "    result = isHappyNumber(result);      \n",
    "if(result == 1):    \n",
    "    print(str(num) + \" is a happy number\");      \n",
    "elif(result == 4):    \n",
    "    print(str(num) + \" is not a happy number\");  "
   ]
  },
  {
   "cell_type": "markdown",
   "id": "e7ea8cae",
   "metadata": {},
   "source": [
    "### 4. Write a Python program to print all happy numbers between 1 and 100?"
   ]
  },
  {
   "cell_type": "code",
   "execution_count": 11,
   "id": "1ee3c149",
   "metadata": {},
   "outputs": [
    {
     "name": "stdout",
     "output_type": "stream",
     "text": [
      "List of happy numbers between 1 and 100: \n",
      "1\n",
      "7\n",
      "10\n",
      "13\n",
      "19\n",
      "23\n",
      "28\n",
      "31\n",
      "32\n",
      "44\n",
      "49\n",
      "68\n",
      "70\n",
      "79\n",
      "82\n",
      "86\n",
      "91\n",
      "94\n",
      "97\n",
      "100\n"
     ]
    }
   ],
   "source": [
    "def isHappyNumber(num):    \n",
    "    rem = sum = 0\n",
    "    while(num > 0):    \n",
    "        rem = num%10;    \n",
    "        sum = sum + (rem*rem)\n",
    "        num = num//10\n",
    "    return sum;    \n",
    "print(\"List of happy numbers between 1 and 100: \")\n",
    "for i in range(1, 101):    \n",
    "    result = i;    \n",
    "    while(result != 1 and result != 4):    \n",
    "        result = isHappyNumber(result)\n",
    "    if(result == 1):    \n",
    "        print(i)\n",
    "        print(\"\",end=\"\")    "
   ]
  },
  {
   "cell_type": "markdown",
   "id": "c9573e87",
   "metadata": {},
   "source": [
    "### 5. Write a Python program to determine whether the given number is a Harshad Number?"
   ]
  },
  {
   "cell_type": "code",
   "execution_count": 12,
   "id": "61c94092",
   "metadata": {},
   "outputs": [
    {
     "name": "stdout",
     "output_type": "stream",
     "text": [
      "156 is a harshad number\n"
     ]
    }
   ],
   "source": [
    "num = 156 \n",
    "rem = sum = 0  \n",
    "n = num  \n",
    "while(num > 0):    \n",
    "    rem = num%10  \n",
    "    sum = sum + rem    \n",
    "    num = num//10   \n",
    "if(n%sum == 0):    \n",
    "    print(str(n) + \" is a harshad number\")\n",
    "else:    \n",
    "    print(str(n) + \" is not a harshad number\")    "
   ]
  },
  {
   "cell_type": "markdown",
   "id": "8f1740a9",
   "metadata": {},
   "source": [
    "### 6. Write a Python Program to print all pronic numbers between 1 and 100?"
   ]
  },
  {
   "cell_type": "code",
   "execution_count": 23,
   "id": "73d48cd2",
   "metadata": {},
   "outputs": [
    {
     "name": "stdout",
     "output_type": "stream",
     "text": [
      "Pronic numbers between 1 and 100:\n",
      "2\n",
      "\n",
      "6\n",
      "\n",
      "12\n",
      "\n",
      "20\n",
      "\n",
      "30\n",
      "\n",
      "42\n",
      "\n",
      "56\n",
      "\n",
      "72\n",
      "\n",
      "90\n",
      "\n"
     ]
    }
   ],
   "source": [
    "def isPronicNumber(num):    \n",
    "    flag = False\n",
    "    for j in range(1, num+1):       \n",
    "        if((j*(j+1)) == num):    \n",
    "            flag = True\n",
    "            break\n",
    "    return flag\n",
    "print(\"Pronic numbers between 1 and 100:\")   \n",
    "for i in range(1, 101):    \n",
    "    if(isPronicNumber(i)):    \n",
    "        print(i)   \n",
    "        print(\"\")   "
   ]
  },
  {
   "cell_type": "code",
   "execution_count": null,
   "id": "6b103ad0",
   "metadata": {},
   "outputs": [],
   "source": []
  }
 ],
 "metadata": {
  "kernelspec": {
   "display_name": "Python 3",
   "language": "python",
   "name": "python3"
  },
  "language_info": {
   "codemirror_mode": {
    "name": "ipython",
    "version": 3
   },
   "file_extension": ".py",
   "mimetype": "text/x-python",
   "name": "python",
   "nbconvert_exporter": "python",
   "pygments_lexer": "ipython3",
   "version": "3.8.8"
  }
 },
 "nbformat": 4,
 "nbformat_minor": 5
}
