{
 "cells": [
  {
   "cell_type": "markdown",
   "id": "996849c1",
   "metadata": {},
   "source": [
    "## 1. Write a Python program to find words which are greater than given length k? "
   ]
  },
  {
   "cell_type": "code",
   "execution_count": 4,
   "id": "13b5e61d",
   "metadata": {},
   "outputs": [
    {
     "name": "stdout",
     "output_type": "stream",
     "text": [
      "['Full', 'Stack', 'Data', 'Science']\n"
     ]
    }
   ],
   "source": [
    "def string_k(k, str):\n",
    "    string = []\n",
    "    text = str.split(\" \")\n",
    "    for x in text:\n",
    "        if len(x) > k:\n",
    "            string.append(x)\n",
    "    return string\n",
    "k = 3\n",
    "str =\"Full Stack Data Science aks to\"\n",
    "print(string_k(k, str))"
   ]
  },
  {
   "cell_type": "markdown",
   "id": "0c173c91",
   "metadata": {},
   "source": [
    "## 2 . Write a Python program for removing i-th character from a string?"
   ]
  },
  {
   "cell_type": "code",
   "execution_count": 5,
   "id": "7a44d778",
   "metadata": {},
   "outputs": [
    {
     "name": "stdout",
     "output_type": "stream",
     "text": [
      "fullsackdatasvcience\n"
     ]
    }
   ],
   "source": [
    "def remove(string, i):\n",
    "     a = string[ : i] \n",
    "     b = string[i + 1: ]\n",
    "     return a + b\n",
    "if __name__ == '__main__':\n",
    "    string = \"fullstackdatasvcience\"\n",
    "    i = 5\n",
    "    print(remove(string, i))"
   ]
  },
  {
   "cell_type": "markdown",
   "id": "092c0789",
   "metadata": {},
   "source": [
    "## 3. Write a Python program to split and join a string? "
   ]
  },
  {
   "cell_type": "code",
   "execution_count": 6,
   "id": "e9244462",
   "metadata": {},
   "outputs": [
    {
     "name": "stdout",
     "output_type": "stream",
     "text": [
      "['full', 'stack', 'data', 'science']\n",
      "full-stack-data-science\n"
     ]
    }
   ],
   "source": [
    "def split_string(string):\n",
    "    list_string = string.split(' ')\n",
    "    return list_string\n",
    "def join_string(list_string):\n",
    "    string = '-'.join(list_string)\n",
    "    return string\n",
    "if __name__ == '__main__':\n",
    "    string = 'full stack data science'\n",
    "    list_string = split_string(string)\n",
    "    print(list_string)\n",
    "    new_string = join_string(list_string)\n",
    "    print(new_string)"
   ]
  },
  {
   "cell_type": "markdown",
   "id": "a148f750",
   "metadata": {},
   "source": [
    "## 4.Write a Python to check if a given string is binary string or not? "
   ]
  },
  {
   "cell_type": "code",
   "execution_count": 7,
   "id": "c0c0ce2f",
   "metadata": {},
   "outputs": [
    {
     "name": "stdout",
     "output_type": "stream",
     "text": [
      "Yes\n"
     ]
    }
   ],
   "source": [
    "def check(string):\n",
    "    p = set(string)\n",
    "    s = {'0', '1'}\n",
    "    if s == p or p == {'0'} or p == {'1'}:\n",
    "        print(\"Yes\")\n",
    "    else :\n",
    "        print(\"No\")\n",
    "if __name__ == \"__main__\" :\n",
    "    string = \"101010000111\"\n",
    "    check(string)"
   ]
  },
  {
   "cell_type": "markdown",
   "id": "dfc12fb9",
   "metadata": {},
   "source": [
    "## 5. Write a Python program to find uncommon words from two Strings?"
   ]
  },
  {
   "cell_type": "code",
   "execution_count": 8,
   "id": "9ab9f639",
   "metadata": {},
   "outputs": [
    {
     "name": "stdout",
     "output_type": "stream",
     "text": [
      "['Ineuron']\n"
     ]
    }
   ],
   "source": [
    "def UncommonWords(A, B):\n",
    "    count = {}\n",
    "    for word in A.split():\n",
    "        count[word] = count.get(word, 0) + 1\n",
    "    for word in B.split():\n",
    "        count[word] = count.get(word, 0) + 1\n",
    "    return [word for word in count if count[word] == 1]\n",
    "A = \"Ineuron full stack data science\"\n",
    "B = \"full stack data science\"\n",
    "print(UncommonWords(A, B))"
   ]
  },
  {
   "cell_type": "markdown",
   "id": "cdd03b2b",
   "metadata": {},
   "source": [
    "## 6. Write a Python to find all duplicate characters in string?"
   ]
  },
  {
   "cell_type": "code",
   "execution_count": 10,
   "id": "e94d17ae",
   "metadata": {},
   "outputs": [
    {
     "name": "stdout",
     "output_type": "stream",
     "text": [
      "l s t a c e\n"
     ]
    }
   ],
   "source": [
    "string = \"fullstackdatascience\"\n",
    "duplicates = []\n",
    "for char in string:\n",
    "   if string.count(char) > 1:\n",
    "       if char not in duplicates:\n",
    "           duplicates.append(char)\n",
    "print(*duplicates)"
   ]
  },
  {
   "cell_type": "markdown",
   "id": "9160857a",
   "metadata": {},
   "source": [
    "## 7. Write a Python Program to check if a string contains any special character?"
   ]
  },
  {
   "cell_type": "code",
   "execution_count": 20,
   "id": "eec2aab5",
   "metadata": {},
   "outputs": [
    {
     "name": "stdout",
     "output_type": "stream",
     "text": [
      "String is not accepted.\n"
     ]
    }
   ],
   "source": [
    "import re\n",
    "def run(string):\n",
    "    regex = re.compile('[@_!#$%^&*()<>?/\\|}{~:]')\n",
    "    if(regex.search(string) == None):\n",
    "        print(\"String is accepted\")\n",
    "    else:\n",
    "        print(\"String is not accepted.\")\n",
    "if __name__ == '__main__' :\n",
    "    string = \"fullstack@\"\n",
    "    run(string)"
   ]
  },
  {
   "cell_type": "code",
   "execution_count": null,
   "id": "3512b11f",
   "metadata": {},
   "outputs": [],
   "source": []
  },
  {
   "cell_type": "code",
   "execution_count": null,
   "id": "770f0861",
   "metadata": {},
   "outputs": [],
   "source": []
  }
 ],
 "metadata": {
  "kernelspec": {
   "display_name": "Python 3",
   "language": "python",
   "name": "python3"
  },
  "language_info": {
   "codemirror_mode": {
    "name": "ipython",
    "version": 3
   },
   "file_extension": ".py",
   "mimetype": "text/x-python",
   "name": "python",
   "nbconvert_exporter": "python",
   "pygments_lexer": "ipython3",
   "version": "3.8.8"
  }
 },
 "nbformat": 4,
 "nbformat_minor": 5
}
