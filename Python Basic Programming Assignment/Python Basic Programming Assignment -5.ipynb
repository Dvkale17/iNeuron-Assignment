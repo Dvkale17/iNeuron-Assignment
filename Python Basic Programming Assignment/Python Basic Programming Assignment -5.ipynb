{
 "cells": [
  {
   "cell_type": "markdown",
   "metadata": {},
   "source": [
    "### 1. Write a Python Program to Find LCM?"
   ]
  },
  {
   "cell_type": "code",
   "execution_count": 1,
   "metadata": {},
   "outputs": [
    {
     "name": "stdout",
     "output_type": "stream",
     "text": [
      "Enter the first number:5\n",
      "Enter the second number:4\n",
      "LCM of Two number is: 20\n"
     ]
    }
   ],
   "source": [
    "a = int(input(\"Enter the first number:\"))\n",
    "b = int(input(\"Enter the second number:\"))\n",
    "if a > b:\n",
    "    greater = a\n",
    "else:\n",
    "    greater = b\n",
    "while(True):\n",
    "    if(greater % a == 0 and greater % b ==0):\n",
    "        print(\"LCM of Two number is:\",greater)\n",
    "        break\n",
    "    greater += 1 "
   ]
  },
  {
   "cell_type": "markdown",
   "metadata": {},
   "source": [
    "### 2.Write a Python Program to Find HCF?"
   ]
  },
  {
   "cell_type": "code",
   "execution_count": 2,
   "metadata": {},
   "outputs": [
    {
     "name": "stdout",
     "output_type": "stream",
     "text": [
      "Enter first number: 5\n",
      "Enter second number: 6\n",
      "The HCF of 5 and 6 is 1\n"
     ]
    }
   ],
   "source": [
    "a = int(input(\"Enter first number: \"))  \n",
    "b = int(input(\"Enter second number: \"))  \n",
    "if a > b:  \n",
    "    smaller = b  \n",
    "else:  \n",
    "    smaller = a  \n",
    "for i in range(1,smaller + 1):  \n",
    "    if((a % i == 0) and (b % i == 0)):  \n",
    "        hcf = i  \n",
    "\n",
    "print(\"The HCF of\", a,\"and\", b,\"is\", hcf)  "
   ]
  },
  {
   "cell_type": "markdown",
   "metadata": {},
   "source": [
    "### 3. Write a Python Program to Convert Decimal to Binary, Octal and Hexadecimal?"
   ]
  },
  {
   "cell_type": "code",
   "execution_count": 3,
   "metadata": {},
   "outputs": [
    {
     "name": "stdout",
     "output_type": "stream",
     "text": [
      "Enter the Decimal Number:45\n",
      "The Binary Format of Given Decimal is: 0b101101\n",
      "The Octal Foramt of Given Decimal is: 0o55\n",
      "The Hexadecimal Format of Given Decimal is: 0x2d\n"
     ]
    }
   ],
   "source": [
    "dec = int(input(\"Enter the Decimal Number:\"))\n",
    "print(\"The Binary Format of Given Decimal is:\",bin(dec))\n",
    "print(\"The Octal Foramt of Given Decimal is:\",oct(dec))\n",
    "print(\"The Hexadecimal Format of Given Decimal is:\",hex(dec))"
   ]
  },
  {
   "cell_type": "markdown",
   "metadata": {},
   "source": [
    "### 4. Write a Python Program To Find ASCII value of a character?"
   ]
  },
  {
   "cell_type": "code",
   "execution_count": 4,
   "metadata": {},
   "outputs": [
    {
     "name": "stdout",
     "output_type": "stream",
     "text": [
      "Enter a character: l\n",
      "The ASCII value of 'l' is 108\n"
     ]
    }
   ],
   "source": [
    "char = input(\"Enter a character: \")  \n",
    "  \n",
    "print(\"The ASCII value of '\" + char + \"' is\",ord(char))  "
   ]
  },
  {
   "cell_type": "markdown",
   "metadata": {},
   "source": [
    "### 5. Write a Python Program to Make a Simple Calculator with 4 basic mathematical operations?"
   ]
  },
  {
   "cell_type": "code",
   "execution_count": 8,
   "metadata": {},
   "outputs": [
    {
     "name": "stdout",
     "output_type": "stream",
     "text": [
      "1. Addition\n",
      "2. Subtraction\n",
      "3. Multiplication\n",
      "4. Division\n",
      "Enter your choice you want to perform:3\n",
      "Enter the first number:2\n",
      "Enter the second number:6\n",
      "12\n"
     ]
    }
   ],
   "source": [
    "print(\"1. Addition\")\n",
    "print(\"2. Subtraction\")\n",
    "print(\"3. Multiplication\")\n",
    "print(\"4. Division\")\n",
    "choice=int(input(\"Enter your choice you want to perform:\"))\n",
    "a = int(input(\"Enter the first number:\"))\n",
    "b = int(input(\"Enter the second number:\"))\n",
    "if choice==1:\n",
    "    print(a+b)\n",
    "elif choice==2:\n",
    "    print(a-b)\n",
    "elif choice==3:\n",
    "    print(a*b)\n",
    "elif choice==4:\n",
    "    print(a/b)\n",
    "else:\n",
    "    print(\"Please enter correct choice\")\n"
   ]
  },
  {
   "cell_type": "code",
   "execution_count": null,
   "metadata": {},
   "outputs": [],
   "source": []
  }
 ],
 "metadata": {
  "kernelspec": {
   "display_name": "Python 3",
   "language": "python",
   "name": "python3"
  },
  "language_info": {
   "codemirror_mode": {
    "name": "ipython",
    "version": 3
   },
   "file_extension": ".py",
   "mimetype": "text/x-python",
   "name": "python",
   "nbconvert_exporter": "python",
   "pygments_lexer": "ipython3",
   "version": "3.8.5"
  }
 },
 "nbformat": 4,
 "nbformat_minor": 4
}
